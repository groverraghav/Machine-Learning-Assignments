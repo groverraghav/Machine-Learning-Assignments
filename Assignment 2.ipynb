{
 "cells": [
  {
   "cell_type": "markdown",
   "metadata": {},
   "source": [
    "2.Problem Statement \n",
    " \n",
    " \n",
    "Task 1:   \n",
    " \n",
    "1.1  \n",
    " \n",
    "Write a Python Program to implement your own myreduce() function which works exactly like Python's built-in function reduce() \n",
    " \n",
    " "
   ]
  },
  {
   "cell_type": "code",
   "execution_count": 52,
   "metadata": {},
   "outputs": [
    {
     "name": "stdout",
     "output_type": "stream",
     "text": [
      "6\n",
      "28\n",
      "raghavgrover\n",
      "reduce function requires a list or tuple\n",
      "5040\n"
     ]
    }
   ],
   "source": [
    "def myfunction(a,b):\n",
    "    return a+b\n",
    "\n",
    "def myfunction2(a,b):\n",
    "    return a*b\n",
    "\n",
    "def myreduce(myfunc,itrble):\n",
    "    if isinstance(itrble, list) or isinstance(itrble,tuple) or isinstance(itrble,str):\n",
    "        for i in itrble:\n",
    "            if i == itrble[0]:\n",
    "                a=i\n",
    "            else:\n",
    "                a=myfunc(a,i)\n",
    "        return a\n",
    "    \n",
    "    else:\n",
    "        return \"reduce function requires a list or tuple\"\n",
    "\n",
    "    \n",
    "\n",
    "print(myreduce(myfunction,(1,2,3)))\n",
    "print(myreduce(myfunction,[1,2,3,4,5,6,7]))\n",
    "print(myreduce(myfunction,(\"raghav\",\"grover\")))\n",
    "print(myreduce(myfunction,23))\n",
    "print(myreduce(myfunction2,[1,2,3,4,5,6,7]))"
   ]
  },
  {
   "cell_type": "markdown",
   "metadata": {},
   "source": [
    "### 1.2  \n",
    " \n",
    "Write a Python program to implement your own myfilter() function which works exactly like Python's built-in function filter() "
   ]
  },
  {
   "cell_type": "code",
   "execution_count": 49,
   "metadata": {},
   "outputs": [
    {
     "data": {
      "text/plain": [
       "[3, 6, 9]"
      ]
     },
     "execution_count": 49,
     "metadata": {},
     "output_type": "execute_result"
    }
   ],
   "source": [
    "def myfunc(itrble):\n",
    "    answer=[]\n",
    "    for i in itrble:\n",
    "        if i%2==0:\n",
    "            answer.append(i)\n",
    "        else:\n",
    "            continue\n",
    "    \n",
    "    return answer\n",
    "\n",
    "def myfunc2(itrble):\n",
    "    answer=[]\n",
    "    for i in itrble:\n",
    "        if i%3==0:\n",
    "            answer.append(i)\n",
    "        else:\n",
    "            continue\n",
    "    \n",
    "    return answer\n",
    "\n",
    "def myfilter(myfunc,itrble):\n",
    "    if isinstance(itrble,list) or isinstance(itrble,tuple):\n",
    "        answer = myfunc(itrble)\n",
    "        return answer\n",
    "    else:\n",
    "        return \"filter function required a list of tuple \"\n",
    "    \n",
    "## i can change myfunc and it will change the output\n",
    "\n",
    "    \n",
    "    \n",
    "myfilter(myfunc,[1,2,3,4,5,6,7,8,9])\n",
    "myfilter(myfunc2,[1,2,3,4,5,6,7,8,9])"
   ]
  },
  {
   "cell_type": "markdown",
   "metadata": {},
   "source": [
    "2.  \n",
    " \n",
    "Implement List comprehensions to produce the following lists. \n",
    " \n",
    "Write List comprehensions to produce the following Lists \n",
    " \n",
    "['A', 'C', 'A', 'D', 'G', 'I', ’L’, ‘ D’] \n",
    " \n",
    "['x', 'xx', 'xxx', 'xxxx', 'y', 'yy', 'yyy', 'yyyy', 'z', 'zz', 'zzz', 'zzzz'] \n",
    " \n",
    "['x', 'y', 'z', 'xx', 'yy', 'zz', 'xx', 'yy', 'zz', 'xxxx', 'yyyy', 'zzzz'] \n",
    " \n",
    "[[2], [3], [4], [3], [4], [5], [4], [5], [6]] \n",
    " \n",
    "[[2, 3, 4, 5], [3, 4, 5, 6], [4, 5, 6, 7], [5, 6, 7, 8]] \n",
    " \n",
    "[(1, 1), (2, 1), (3, 1), (1, 2), (2, 2), (3, 2), (1, 3), (2, 3), (3, 3)] "
   ]
  },
  {
   "cell_type": "code",
   "execution_count": 53,
   "metadata": {
    "scrolled": true
   },
   "outputs": [
    {
     "name": "stdout",
     "output_type": "stream",
     "text": [
      "['A', 'C', 'A', 'D', 'G', 'I', 'L', 'D']\n",
      "['x', 'xx', 'xxx', 'xxxx', 'y', 'yy', 'yyy', 'yyyy', 'z', 'zz', 'zzz', 'zzzz']\n",
      "['x', 'y', 'z', 'xx', 'yy', 'zz', 'xx', 'yy', 'zz', 'xxxx', 'yyyy', 'zzzz']\n",
      "[[2], [3], [4], [3], [4], [5], [4], [5], [6]]\n",
      "[[2, 3, 4, 5], [3, 4, 5, 6], [4, 5, 6, 7], [5, 6, 7, 8]]\n",
      "[(1, 1), (2, 1), (3, 1), (1, 2), (2, 2), (3, 2), (1, 3), (2, 3), (3, 3)]\n"
     ]
    }
   ],
   "source": [
    "matrix1 =\"ACADGILD\"              #not sure if this is what you are looking for, let me know if case of difference\n",
    "# i will rewrite  for matrix1\n",
    "matrix2=['x','y','z']\n",
    "list1=[ i for i in matrix1]\n",
    "list2 = [matrix2[i]*(j+1) for i in range(3) for j in range(4)]\n",
    "list3 = [matrix2[i]*j     for j in [1,2,2,4] for i in range(3)]\n",
    "list4 = [ [i+j+2] for i in range(3) for j in range(3)] \n",
    "list5 = [ [i+j+2  for i in range(4)] for j in range(4)]\n",
    "list6 = [  (j+1,i+1) for i in range(3) for j in range(3)]\n",
    "print(list1)\n",
    "print(list2)\n",
    "print(list3)\n",
    "print(list4)\n",
    "print(list5)\n",
    "print(list6)"
   ]
  },
  {
   "cell_type": "markdown",
   "metadata": {},
   "source": [
    "3.  \n",
    " \n",
    "Implement a function longestWord() that takes a list of words and returns the longest one. "
   ]
  },
  {
   "cell_type": "code",
   "execution_count": 69,
   "metadata": {},
   "outputs": [
    {
     "name": "stdout",
     "output_type": "stream",
     "text": [
      "please input a string of words and we will find the longest word in stringmy name is raghav grovert\n"
     ]
    },
    {
     "data": {
      "text/plain": [
       "'grovert'"
      ]
     },
     "execution_count": 69,
     "metadata": {},
     "output_type": "execute_result"
    }
   ],
   "source": [
    "            \n",
    "def longestword(itrble):\n",
    "    lst=itrble.split()\n",
    "    answer =[]\n",
    "    counter=0\n",
    "\n",
    "    for i in lst:   \n",
    "        if len(i)>counter:\n",
    "            counter=len(i)\n",
    "\n",
    "    for i in lst:\n",
    "        if len(i)==counter:\n",
    "            answer.append(i)\n",
    "`\n",
    "    if len(answer)==1:\n",
    "        return answer[0]\n",
    "    else:\n",
    "        return answer\n",
    "    \n",
    "In = input(\"please input a string of words and we will find the longest word in string\")\n",
    "longestword(In)"
   ]
  },
  {
   "cell_type": "code",
   "execution_count": 86,
   "metadata": {},
   "outputs": [
    {
     "name": "stdout",
     "output_type": "stream",
     "text": [
      "please input a string of words and we will find the longest word in stringraghav\n"
     ]
    },
    {
     "data": {
      "text/plain": [
       "'raghav'"
      ]
     },
     "execution_count": 86,
     "metadata": {},
     "output_type": "execute_result"
    }
   ],
   "source": [
    "def longestword2(In):\n",
    "    indx=[]\n",
    "    lst=In.split()\n",
    "    lst2 =  [len(i)  for i in lst]\n",
    "\n",
    "    for i in lst:\n",
    "        if len(i) == max(lst2):\n",
    "            indx.append(i)\n",
    "    if len(indx)==1:\n",
    "        return indx[0]\n",
    "    else:\n",
    "        return indx    \n",
    "            \n",
    "\n",
    "\n",
    "In = input(\"please input a string of words and we will find the longest word in string\")\n",
    "\n",
    "longestword2(In)"
   ]
  },
  {
   "cell_type": "markdown",
   "metadata": {},
   "source": [
    "1.1\n",
    "Write a Python Program(with class concepts) to find the area of the triangle using the below\n",
    "formula.\n",
    "area = (s*(s-a)*(s-b)*(s-c)) ** 0.5\n",
    "Function to take the length of the sides of triangle from user should be defined in the parent\n",
    "class and function to calculate the area should be defined in subclass"
   ]
  },
  {
   "cell_type": "code",
   "execution_count": 102,
   "metadata": {},
   "outputs": [],
   "source": [
    "class triangle():\n",
    "        \n",
    "    def side1(self):\n",
    "        self.a=int(input(\"please input side 1 length\"))\n",
    "        self.b=int(input(\"please input side 2 length\"))\n",
    "        self.c=int(input(\"please input side 3 length\"))\n",
    "        return self.a,self.b,self.c\n",
    "\n",
    "class triarea(triangle):\n",
    "       \n",
    "    def myarea(self):\n",
    "        a,b,c = super().side1()\n",
    "        s=(a+b+c)/2\n",
    "        area =(s*(s-a)*(s-b)*(s-c))**0.5\n",
    "        self.area=area\n",
    "        print ( \"The area of triangle with sides %d,%d and %d is %f\" %(a,b,c,area))\n",
    "        \n"
   ]
  },
  {
   "cell_type": "code",
   "execution_count": 103,
   "metadata": {},
   "outputs": [],
   "source": [
    "new=triarea()"
   ]
  },
  {
   "cell_type": "code",
   "execution_count": 105,
   "metadata": {},
   "outputs": [
    {
     "name": "stdout",
     "output_type": "stream",
     "text": [
      "please input side 1 length10\n",
      "please input side 2 length12\n",
      "please input side 3 length8\n",
      "The area of triangle with sides 10,12 and 8 is 39.686270\n"
     ]
    }
   ],
   "source": [
    "new.myarea()"
   ]
  },
  {
   "cell_type": "markdown",
   "metadata": {},
   "source": [
    "1.2\n",
    "Write a function filter_long_words() that takes a list of words and an integer n and returns the list\n",
    "of words that are longer than n.\n"
   ]
  },
  {
   "cell_type": "code",
   "execution_count": 107,
   "metadata": {},
   "outputs": [],
   "source": [
    "def filter_long_words(lst,n):\n",
    "    answer =[]\n",
    "    if isinstance(lst,list) or isinstance(lst,tuple):\n",
    "        for i in lst:\n",
    "            if isinstance(i,str):\n",
    "                if len(i) > n:\n",
    "                    answer.append(i)\n",
    "            else:\n",
    "                continue\n",
    "    elif isinstance(lst,str):\n",
    "            if len(lst)>n:\n",
    "                return lst\n",
    "    else:\n",
    "        return \"Please provide the details in list or tuple\"\n",
    "    \n",
    "    return answer\n"
   ]
  },
  {
   "cell_type": "code",
   "execution_count": 108,
   "metadata": {},
   "outputs": [
    {
     "data": {
      "text/plain": [
       "['asdfg', 'asdfgh']"
      ]
     },
     "execution_count": 108,
     "metadata": {},
     "output_type": "execute_result"
    }
   ],
   "source": [
    "filter_long_words(['a','as','asd','asdfg','asdfgh'],3)"
   ]
  },
  {
   "cell_type": "code",
   "execution_count": 109,
   "metadata": {},
   "outputs": [
    {
     "data": {
      "text/plain": [
       "['asdfg', 'asdfgh']"
      ]
     },
     "execution_count": 109,
     "metadata": {},
     "output_type": "execute_result"
    }
   ],
   "source": [
    "filter_long_words(('a','as','asd','asdfg','asdfgh'),3)"
   ]
  },
  {
   "cell_type": "code",
   "execution_count": 110,
   "metadata": {},
   "outputs": [
    {
     "data": {
      "text/plain": [
       "'raghav'"
      ]
     },
     "execution_count": 110,
     "metadata": {},
     "output_type": "execute_result"
    }
   ],
   "source": [
    "filter_long_words('raghav',3)"
   ]
  },
  {
   "cell_type": "code",
   "execution_count": 111,
   "metadata": {},
   "outputs": [
    {
     "data": {
      "text/plain": [
       "['asd', 'asdfg', 'asdfgh']"
      ]
     },
     "execution_count": 111,
     "metadata": {},
     "output_type": "execute_result"
    }
   ],
   "source": [
    "filter_long_words(['a','as',45,54444,'asd',2,'asdfg',1,'asdfgh'],2)"
   ]
  },
  {
   "cell_type": "markdown",
   "metadata": {},
   "source": [
    "2.1\n",
    "\n",
    "Write a Python program using function concept that maps list of words into a list of integers\n",
    "representing the lengths of the corresponding words.\n",
    "Hint: If a list [ ab,cde,erty] is passed on to the python function output should come as [2,3,4]\n",
    "Here 2,3 and 4 are the lengths of the words in the list."
   ]
  },
  {
   "cell_type": "code",
   "execution_count": 112,
   "metadata": {},
   "outputs": [],
   "source": [
    "#attempt 1\n",
    "\n",
    "def mylen(lst):\n",
    "    answer =[]\n",
    "    if isinstance(lst,str):\n",
    "        return len(lst)\n",
    "    \n",
    "    elif isinstance(lst,list) or isinstance(lst,tuple) :\n",
    "        for i in lst:\n",
    "            answer.append(len(i))\n",
    "        return  answer\n",
    "    \n",
    "    elif isinstance(lst,set):\n",
    "        for i in lst:\n",
    "            answer.append(len(i))\n",
    "        print(\"result is unorganised \")\n",
    "        return  answer\n",
    "    \n",
    "    elif isinstance(lst,dict):\n",
    "        for i in lst.values():\n",
    "            if isinstance(i,str):\n",
    "                answer.append(len(i))\n",
    "            else:\n",
    "                answer.append(\"NaN\")\n",
    "        return  answer\n",
    "\n",
    "    else: \n",
    "        print  (\"please provide a list, tuple,set, dictionary or string for checking length\")\n",
    "\n",
    "\n"
   ]
  },
  {
   "cell_type": "code",
   "execution_count": 113,
   "metadata": {},
   "outputs": [
    {
     "data": {
      "text/plain": [
       "[6, 6, 2, 7]"
      ]
     },
     "execution_count": 113,
     "metadata": {},
     "output_type": "execute_result"
    }
   ],
   "source": [
    "mylen([\"raghav\",\"griver\",\"ch\",\"jvoewib\"])    #list"
   ]
  },
  {
   "cell_type": "code",
   "execution_count": 114,
   "metadata": {},
   "outputs": [
    {
     "data": {
      "text/plain": [
       "[6, 6, 2, 7]"
      ]
     },
     "execution_count": 114,
     "metadata": {},
     "output_type": "execute_result"
    }
   ],
   "source": [
    "mylen((\"raghav\",\"griver\",\"ch\",\"jvoewib\"))     #tuple"
   ]
  },
  {
   "cell_type": "code",
   "execution_count": 115,
   "metadata": {},
   "outputs": [
    {
     "name": "stdout",
     "output_type": "stream",
     "text": [
      "result is unorganised \n"
     ]
    },
    {
     "data": {
      "text/plain": [
       "[6, 6, 7, 2]"
      ]
     },
     "execution_count": 115,
     "metadata": {},
     "output_type": "execute_result"
    }
   ],
   "source": [
    "mylen({\"raghav\",\"griver\",\"ch\",\"jvoewib\"})     #set"
   ]
  },
  {
   "cell_type": "code",
   "execution_count": 116,
   "metadata": {},
   "outputs": [
    {
     "data": {
      "text/plain": [
       "6"
      ]
     },
     "execution_count": 116,
     "metadata": {},
     "output_type": "execute_result"
    }
   ],
   "source": [
    "mylen(\"raghav\")                                #string"
   ]
  },
  {
   "cell_type": "code",
   "execution_count": 117,
   "metadata": {},
   "outputs": [
    {
     "data": {
      "text/plain": [
       "[6, 6, 'NaN']"
      ]
     },
     "execution_count": 117,
     "metadata": {},
     "output_type": "execute_result"
    }
   ],
   "source": [
    "mylen({\"key1\":\"raghav\",\"key2\":\"grover\",\"key3\":5})     #dictionary handling non string data tye"
   ]
  },
  {
   "cell_type": "code",
   "execution_count": 118,
   "metadata": {},
   "outputs": [
    {
     "data": {
      "text/plain": [
       "[6, 6, 'NaN']"
      ]
     },
     "execution_count": 118,
     "metadata": {},
     "output_type": "execute_result"
    }
   ],
   "source": [
    "mylen({\"key1\":\"raghav\",\"key2\":\"grover\",\"key3\":[1,2]})  "
   ]
  },
  {
   "cell_type": "code",
   "execution_count": 119,
   "metadata": {},
   "outputs": [
    {
     "data": {
      "text/plain": [
       "[6, 6, 'NaN']"
      ]
     },
     "execution_count": 119,
     "metadata": {},
     "output_type": "execute_result"
    }
   ],
   "source": [
    "mylen({\"key1\":\"raghav\",\"key2\":\"grover\",\"key3\":[\"rag\",\"gro\"]})       # have not  handled this exception"
   ]
  },
  {
   "cell_type": "markdown",
   "metadata": {},
   "source": [
    "2.2\n",
    "Write a Python function which takes a character (i.e. a string of length 1) and returns True if it is\n",
    "a vowel, False otherwise.\n"
   ]
  },
  {
   "cell_type": "code",
   "execution_count": 121,
   "metadata": {},
   "outputs": [
    {
     "name": "stdout",
     "output_type": "stream",
     "text": [
      "False\n",
      "False\n",
      "False\n",
      "False\n",
      "True\n",
      "True\n",
      "False\n",
      "False\n",
      "True\n"
     ]
    }
   ],
   "source": [
    "# looping insistence and len and addressing caps\n",
    "\n",
    "def vowelcheck(mychar):\n",
    "    # check that passed dataset is one character and passed data set is a string\n",
    "    if isinstance(mychar,str): \n",
    "        if len(mychar)==1:\n",
    "            for i in ['a','e','i','o','u','A','E','I','O','U']:\n",
    "                if mychar == i:\n",
    "                    return  True\n",
    "            else:\n",
    "               return False\n",
    "        else:\n",
    "            return False\n",
    "    else:\n",
    "        return False\n",
    "    \n",
    "print(vowelcheck(1))\n",
    "print(vowelcheck([1,2,3]))\n",
    "print(vowelcheck((1,2,3)))\n",
    "print(vowelcheck(\"raghav\"))\n",
    "print(vowelcheck('a'))\n",
    "print(vowelcheck('e'))\n",
    "print(vowelcheck('b'))\n",
    "print(vowelcheck('B'))\n",
    "print(vowelcheck('A'))\n"
   ]
  }
 ],
 "metadata": {
  "kernelspec": {
   "display_name": "Python 3",
   "language": "python",
   "name": "python3"
  },
  "language_info": {
   "codemirror_mode": {
    "name": "ipython",
    "version": 3
   },
   "file_extension": ".py",
   "mimetype": "text/x-python",
   "name": "python",
   "nbconvert_exporter": "python",
   "pygments_lexer": "ipython3",
   "version": "3.7.4"
  }
 },
 "nbformat": 4,
 "nbformat_minor": 2
}
